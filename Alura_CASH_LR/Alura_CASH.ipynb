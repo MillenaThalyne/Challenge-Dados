{
  "nbformat": 4,
  "nbformat_minor": 0,
  "metadata": {
    "colab": {
      "provenance": [],
      "collapsed_sections": [
        "TdGvXZFGVPJo",
        "o-mIjDHQ50BK"
      ]
    },
    "kernelspec": {
      "name": "python3",
      "display_name": "Python 3"
    },
    "language_info": {
      "name": "python"
    }
  },
  "cells": [
    {
      "cell_type": "markdown",
      "source": [
        "# Importação do Pandas e do arquivo CSV\n",
        "\n",
        "\n"
      ],
      "metadata": {
        "id": "TdGvXZFGVPJo"
      }
    },
    {
      "cell_type": "code",
      "execution_count": 46,
      "metadata": {
        "id": "G36LrhAGXK2I"
      },
      "outputs": [],
      "source": [
        "import pandas as pd\n",
        "import matplotlib.pyplot as plt\n",
        "import seaborn as sns\n",
        "import numpy as np\n",
        "from sklearn.metrics import plot_confusion_matrix\n",
        "from sklearn.metrics import classification_report\n",
        "from sklearn.metrics import roc_curve, roc_auc_score\n",
        "from sklearn.model_selection import train_test_split\n",
        "from sklearn.linear_model import LogisticRegression\n",
        "from imblearn.under_sampling import NearMiss \n",
        "from collections import Counter\n",
        "from imblearn.under_sampling import NearMiss \n",
        "from sklearn.metrics import accuracy_score"
      ]
    },
    {
      "cell_type": "code",
      "source": [
        "from google.colab import drive\n",
        "drive.mount('/content/drive')"
      ],
      "metadata": {
        "colab": {
          "base_uri": "https://localhost:8080/"
        },
        "id": "NIk65U9uXNpJ",
        "outputId": "7475ff07-ee86-411a-c5de-21cb5529c1fe"
      },
      "execution_count": 2,
      "outputs": [
        {
          "output_type": "stream",
          "name": "stdout",
          "text": [
            "Mounted at /content/drive\n"
          ]
        }
      ]
    },
    {
      "cell_type": "code",
      "source": [
        "dataset = pd.read_csv(\"/content/drive/MyDrive/Challenge Dados 1/Dados em CSV/exportacao.csv\")"
      ],
      "metadata": {
        "id": "JpJr6zsIXlup"
      },
      "execution_count": 3,
      "outputs": []
    },
    {
      "cell_type": "markdown",
      "source": [
        "# Visualização Cabeçalho ee exclusão de campos desnecessários"
      ],
      "metadata": {
        "id": "o-mIjDHQ50BK"
      }
    },
    {
      "cell_type": "code",
      "source": [
        "dataset.head(10)"
      ],
      "metadata": {
        "colab": {
          "base_uri": "https://localhost:8080/",
          "height": 0
        },
        "id": "6lnnv4_rXkl9",
        "outputId": "f86ebaff-d801-4256-ffa5-0acf656d47b9"
      },
      "execution_count": 4,
      "outputs": [
        {
          "output_type": "execute_result",
          "data": {
            "text/plain": [
              "      ID_PESSOAL  ID_EMPRESTIMO   ID_HISTORICO  IDADE  SALARIO_ANUAL  \\\n",
              "0  F9a6bBd9-Xe2o  8HuvzhAq-k7Xi  L42AQtMx-SEGR   27.0        68000.0   \n",
              "1  RSQpYv0W-D6Oo  PDpdl2hQ-Sszr  oZ2iPvfD-HdIo   24.0        12600.0   \n",
              "2  bRYeof0L-cqHI  0T2YFLWb-IZze  0Y1a64ag-4RLW   30.0       100000.0   \n",
              "3  d0YRlkdZ-nuLT  xzTEiD3e-BbFZ  Z5LA433k-5vqf   28.0        83000.0   \n",
              "4  njGBnugm-85Dv  QKDlpIm7-sqMC  ObEkaKZr-9MDa   30.0       110400.0   \n",
              "5  ZZ41xYZt-oZch  txgCHDym-TG6Q  fHIsaQH4-ELgM   31.0        26988.0   \n",
              "6  GN6ytQnE-DzMK  WbeWEny4-1t34  mMtKwh3x-cEpY   24.0       117996.0   \n",
              "7  Rb8k12Zq-S58b  L88dgHTW-gh06  JyLwW0Ov-t1oB   27.0        24000.0   \n",
              "8  TccooMuS-9WMJ  R3iJsWIz-nEQ2  tgWAqObp-d8sA   21.0        21600.0   \n",
              "9  hUTCf2mg-Lsiq  X1iMYKFZ-Y9vt  CzgF8dqS-nkOH   21.0        26400.0   \n",
              "\n",
              "  PROP_SITUACAO  TEMPO_TRAB INTENCAO_EMPRESTIMO GRAU_EMPRESTIMO  VALOR_TOTAL  \\\n",
              "0          Rent         4.0     Homeimprovement               A       8700.0   \n",
              "1          Rent         2.0             Venture               C       2500.0   \n",
              "2          Rent        13.0   Debtconsolidation               A      12000.0   \n",
              "3      Mortgage         6.0   Debtconsolidation               B       5000.0   \n",
              "4          Rent         1.0             Venture               D      14000.0   \n",
              "5          Rent         NaN             Venture               A       5800.0   \n",
              "6      Mortgage         6.0             Venture               E      18000.0   \n",
              "7          Rent         2.0             Medical               A       1450.0   \n",
              "8          Rent         NaN   Debtconsolidation               A       6700.0   \n",
              "9          Rent         NaN            Personal               D       7000.0   \n",
              "\n",
              "   TAXA_JUROS  POSSIB_INADIMPLENTE  PERCENTUAL_RENDIMENTO_EMPRESTIMO  \\\n",
              "0        7.88                  0.0                              0.13   \n",
              "1       13.11                  1.0                              0.20   \n",
              "2        7.88                  0.0                              0.12   \n",
              "3         NaN                  0.0                              0.06   \n",
              "4       16.89                  1.0                              0.13   \n",
              "5        6.62                  0.0                              0.21   \n",
              "6       17.04                  0.0                              0.15   \n",
              "7         NaN                  0.0                              0.06   \n",
              "8        6.92                  1.0                              0.31   \n",
              "9       14.84                  1.0                              0.27   \n",
              "\n",
              "  PESSOA_INADIMPLENTE  TEMPO_AQUISICAO  \n",
              "0                   N                5  \n",
              "1                   Y                2  \n",
              "2                   N                9  \n",
              "3                   N                9  \n",
              "4                   N                6  \n",
              "5                   N                9  \n",
              "6                   Y                3  \n",
              "7                   N                9  \n",
              "8                   N                4  \n",
              "9                   Y                3  "
            ],
            "text/html": [
              "\n",
              "  <div id=\"df-1783e270-90a1-4a2c-9845-330562e5892d\">\n",
              "    <div class=\"colab-df-container\">\n",
              "      <div>\n",
              "<style scoped>\n",
              "    .dataframe tbody tr th:only-of-type {\n",
              "        vertical-align: middle;\n",
              "    }\n",
              "\n",
              "    .dataframe tbody tr th {\n",
              "        vertical-align: top;\n",
              "    }\n",
              "\n",
              "    .dataframe thead th {\n",
              "        text-align: right;\n",
              "    }\n",
              "</style>\n",
              "<table border=\"1\" class=\"dataframe\">\n",
              "  <thead>\n",
              "    <tr style=\"text-align: right;\">\n",
              "      <th></th>\n",
              "      <th>ID_PESSOAL</th>\n",
              "      <th>ID_EMPRESTIMO</th>\n",
              "      <th>ID_HISTORICO</th>\n",
              "      <th>IDADE</th>\n",
              "      <th>SALARIO_ANUAL</th>\n",
              "      <th>PROP_SITUACAO</th>\n",
              "      <th>TEMPO_TRAB</th>\n",
              "      <th>INTENCAO_EMPRESTIMO</th>\n",
              "      <th>GRAU_EMPRESTIMO</th>\n",
              "      <th>VALOR_TOTAL</th>\n",
              "      <th>TAXA_JUROS</th>\n",
              "      <th>POSSIB_INADIMPLENTE</th>\n",
              "      <th>PERCENTUAL_RENDIMENTO_EMPRESTIMO</th>\n",
              "      <th>PESSOA_INADIMPLENTE</th>\n",
              "      <th>TEMPO_AQUISICAO</th>\n",
              "    </tr>\n",
              "  </thead>\n",
              "  <tbody>\n",
              "    <tr>\n",
              "      <th>0</th>\n",
              "      <td>F9a6bBd9-Xe2o</td>\n",
              "      <td>8HuvzhAq-k7Xi</td>\n",
              "      <td>L42AQtMx-SEGR</td>\n",
              "      <td>27.0</td>\n",
              "      <td>68000.0</td>\n",
              "      <td>Rent</td>\n",
              "      <td>4.0</td>\n",
              "      <td>Homeimprovement</td>\n",
              "      <td>A</td>\n",
              "      <td>8700.0</td>\n",
              "      <td>7.88</td>\n",
              "      <td>0.0</td>\n",
              "      <td>0.13</td>\n",
              "      <td>N</td>\n",
              "      <td>5</td>\n",
              "    </tr>\n",
              "    <tr>\n",
              "      <th>1</th>\n",
              "      <td>RSQpYv0W-D6Oo</td>\n",
              "      <td>PDpdl2hQ-Sszr</td>\n",
              "      <td>oZ2iPvfD-HdIo</td>\n",
              "      <td>24.0</td>\n",
              "      <td>12600.0</td>\n",
              "      <td>Rent</td>\n",
              "      <td>2.0</td>\n",
              "      <td>Venture</td>\n",
              "      <td>C</td>\n",
              "      <td>2500.0</td>\n",
              "      <td>13.11</td>\n",
              "      <td>1.0</td>\n",
              "      <td>0.20</td>\n",
              "      <td>Y</td>\n",
              "      <td>2</td>\n",
              "    </tr>\n",
              "    <tr>\n",
              "      <th>2</th>\n",
              "      <td>bRYeof0L-cqHI</td>\n",
              "      <td>0T2YFLWb-IZze</td>\n",
              "      <td>0Y1a64ag-4RLW</td>\n",
              "      <td>30.0</td>\n",
              "      <td>100000.0</td>\n",
              "      <td>Rent</td>\n",
              "      <td>13.0</td>\n",
              "      <td>Debtconsolidation</td>\n",
              "      <td>A</td>\n",
              "      <td>12000.0</td>\n",
              "      <td>7.88</td>\n",
              "      <td>0.0</td>\n",
              "      <td>0.12</td>\n",
              "      <td>N</td>\n",
              "      <td>9</td>\n",
              "    </tr>\n",
              "    <tr>\n",
              "      <th>3</th>\n",
              "      <td>d0YRlkdZ-nuLT</td>\n",
              "      <td>xzTEiD3e-BbFZ</td>\n",
              "      <td>Z5LA433k-5vqf</td>\n",
              "      <td>28.0</td>\n",
              "      <td>83000.0</td>\n",
              "      <td>Mortgage</td>\n",
              "      <td>6.0</td>\n",
              "      <td>Debtconsolidation</td>\n",
              "      <td>B</td>\n",
              "      <td>5000.0</td>\n",
              "      <td>NaN</td>\n",
              "      <td>0.0</td>\n",
              "      <td>0.06</td>\n",
              "      <td>N</td>\n",
              "      <td>9</td>\n",
              "    </tr>\n",
              "    <tr>\n",
              "      <th>4</th>\n",
              "      <td>njGBnugm-85Dv</td>\n",
              "      <td>QKDlpIm7-sqMC</td>\n",
              "      <td>ObEkaKZr-9MDa</td>\n",
              "      <td>30.0</td>\n",
              "      <td>110400.0</td>\n",
              "      <td>Rent</td>\n",
              "      <td>1.0</td>\n",
              "      <td>Venture</td>\n",
              "      <td>D</td>\n",
              "      <td>14000.0</td>\n",
              "      <td>16.89</td>\n",
              "      <td>1.0</td>\n",
              "      <td>0.13</td>\n",
              "      <td>N</td>\n",
              "      <td>6</td>\n",
              "    </tr>\n",
              "    <tr>\n",
              "      <th>5</th>\n",
              "      <td>ZZ41xYZt-oZch</td>\n",
              "      <td>txgCHDym-TG6Q</td>\n",
              "      <td>fHIsaQH4-ELgM</td>\n",
              "      <td>31.0</td>\n",
              "      <td>26988.0</td>\n",
              "      <td>Rent</td>\n",
              "      <td>NaN</td>\n",
              "      <td>Venture</td>\n",
              "      <td>A</td>\n",
              "      <td>5800.0</td>\n",
              "      <td>6.62</td>\n",
              "      <td>0.0</td>\n",
              "      <td>0.21</td>\n",
              "      <td>N</td>\n",
              "      <td>9</td>\n",
              "    </tr>\n",
              "    <tr>\n",
              "      <th>6</th>\n",
              "      <td>GN6ytQnE-DzMK</td>\n",
              "      <td>WbeWEny4-1t34</td>\n",
              "      <td>mMtKwh3x-cEpY</td>\n",
              "      <td>24.0</td>\n",
              "      <td>117996.0</td>\n",
              "      <td>Mortgage</td>\n",
              "      <td>6.0</td>\n",
              "      <td>Venture</td>\n",
              "      <td>E</td>\n",
              "      <td>18000.0</td>\n",
              "      <td>17.04</td>\n",
              "      <td>0.0</td>\n",
              "      <td>0.15</td>\n",
              "      <td>Y</td>\n",
              "      <td>3</td>\n",
              "    </tr>\n",
              "    <tr>\n",
              "      <th>7</th>\n",
              "      <td>Rb8k12Zq-S58b</td>\n",
              "      <td>L88dgHTW-gh06</td>\n",
              "      <td>JyLwW0Ov-t1oB</td>\n",
              "      <td>27.0</td>\n",
              "      <td>24000.0</td>\n",
              "      <td>Rent</td>\n",
              "      <td>2.0</td>\n",
              "      <td>Medical</td>\n",
              "      <td>A</td>\n",
              "      <td>1450.0</td>\n",
              "      <td>NaN</td>\n",
              "      <td>0.0</td>\n",
              "      <td>0.06</td>\n",
              "      <td>N</td>\n",
              "      <td>9</td>\n",
              "    </tr>\n",
              "    <tr>\n",
              "      <th>8</th>\n",
              "      <td>TccooMuS-9WMJ</td>\n",
              "      <td>R3iJsWIz-nEQ2</td>\n",
              "      <td>tgWAqObp-d8sA</td>\n",
              "      <td>21.0</td>\n",
              "      <td>21600.0</td>\n",
              "      <td>Rent</td>\n",
              "      <td>NaN</td>\n",
              "      <td>Debtconsolidation</td>\n",
              "      <td>A</td>\n",
              "      <td>6700.0</td>\n",
              "      <td>6.92</td>\n",
              "      <td>1.0</td>\n",
              "      <td>0.31</td>\n",
              "      <td>N</td>\n",
              "      <td>4</td>\n",
              "    </tr>\n",
              "    <tr>\n",
              "      <th>9</th>\n",
              "      <td>hUTCf2mg-Lsiq</td>\n",
              "      <td>X1iMYKFZ-Y9vt</td>\n",
              "      <td>CzgF8dqS-nkOH</td>\n",
              "      <td>21.0</td>\n",
              "      <td>26400.0</td>\n",
              "      <td>Rent</td>\n",
              "      <td>NaN</td>\n",
              "      <td>Personal</td>\n",
              "      <td>D</td>\n",
              "      <td>7000.0</td>\n",
              "      <td>14.84</td>\n",
              "      <td>1.0</td>\n",
              "      <td>0.27</td>\n",
              "      <td>Y</td>\n",
              "      <td>3</td>\n",
              "    </tr>\n",
              "  </tbody>\n",
              "</table>\n",
              "</div>\n",
              "      <button class=\"colab-df-convert\" onclick=\"convertToInteractive('df-1783e270-90a1-4a2c-9845-330562e5892d')\"\n",
              "              title=\"Convert this dataframe to an interactive table.\"\n",
              "              style=\"display:none;\">\n",
              "        \n",
              "  <svg xmlns=\"http://www.w3.org/2000/svg\" height=\"24px\"viewBox=\"0 0 24 24\"\n",
              "       width=\"24px\">\n",
              "    <path d=\"M0 0h24v24H0V0z\" fill=\"none\"/>\n",
              "    <path d=\"M18.56 5.44l.94 2.06.94-2.06 2.06-.94-2.06-.94-.94-2.06-.94 2.06-2.06.94zm-11 1L8.5 8.5l.94-2.06 2.06-.94-2.06-.94L8.5 2.5l-.94 2.06-2.06.94zm10 10l.94 2.06.94-2.06 2.06-.94-2.06-.94-.94-2.06-.94 2.06-2.06.94z\"/><path d=\"M17.41 7.96l-1.37-1.37c-.4-.4-.92-.59-1.43-.59-.52 0-1.04.2-1.43.59L10.3 9.45l-7.72 7.72c-.78.78-.78 2.05 0 2.83L4 21.41c.39.39.9.59 1.41.59.51 0 1.02-.2 1.41-.59l7.78-7.78 2.81-2.81c.8-.78.8-2.07 0-2.86zM5.41 20L4 18.59l7.72-7.72 1.47 1.35L5.41 20z\"/>\n",
              "  </svg>\n",
              "      </button>\n",
              "      \n",
              "  <style>\n",
              "    .colab-df-container {\n",
              "      display:flex;\n",
              "      flex-wrap:wrap;\n",
              "      gap: 12px;\n",
              "    }\n",
              "\n",
              "    .colab-df-convert {\n",
              "      background-color: #E8F0FE;\n",
              "      border: none;\n",
              "      border-radius: 50%;\n",
              "      cursor: pointer;\n",
              "      display: none;\n",
              "      fill: #1967D2;\n",
              "      height: 32px;\n",
              "      padding: 0 0 0 0;\n",
              "      width: 32px;\n",
              "    }\n",
              "\n",
              "    .colab-df-convert:hover {\n",
              "      background-color: #E2EBFA;\n",
              "      box-shadow: 0px 1px 2px rgba(60, 64, 67, 0.3), 0px 1px 3px 1px rgba(60, 64, 67, 0.15);\n",
              "      fill: #174EA6;\n",
              "    }\n",
              "\n",
              "    [theme=dark] .colab-df-convert {\n",
              "      background-color: #3B4455;\n",
              "      fill: #D2E3FC;\n",
              "    }\n",
              "\n",
              "    [theme=dark] .colab-df-convert:hover {\n",
              "      background-color: #434B5C;\n",
              "      box-shadow: 0px 1px 3px 1px rgba(0, 0, 0, 0.15);\n",
              "      filter: drop-shadow(0px 1px 2px rgba(0, 0, 0, 0.3));\n",
              "      fill: #FFFFFF;\n",
              "    }\n",
              "  </style>\n",
              "\n",
              "      <script>\n",
              "        const buttonEl =\n",
              "          document.querySelector('#df-1783e270-90a1-4a2c-9845-330562e5892d button.colab-df-convert');\n",
              "        buttonEl.style.display =\n",
              "          google.colab.kernel.accessAllowed ? 'block' : 'none';\n",
              "\n",
              "        async function convertToInteractive(key) {\n",
              "          const element = document.querySelector('#df-1783e270-90a1-4a2c-9845-330562e5892d');\n",
              "          const dataTable =\n",
              "            await google.colab.kernel.invokeFunction('convertToInteractive',\n",
              "                                                     [key], {});\n",
              "          if (!dataTable) return;\n",
              "\n",
              "          const docLinkHtml = 'Like what you see? Visit the ' +\n",
              "            '<a target=\"_blank\" href=https://colab.research.google.com/notebooks/data_table.ipynb>data table notebook</a>'\n",
              "            + ' to learn more about interactive tables.';\n",
              "          element.innerHTML = '';\n",
              "          dataTable['output_type'] = 'display_data';\n",
              "          await google.colab.output.renderOutput(dataTable, element);\n",
              "          const docLink = document.createElement('div');\n",
              "          docLink.innerHTML = docLinkHtml;\n",
              "          element.appendChild(docLink);\n",
              "        }\n",
              "      </script>\n",
              "    </div>\n",
              "  </div>\n",
              "  "
            ]
          },
          "metadata": {},
          "execution_count": 4
        }
      ]
    },
    {
      "cell_type": "code",
      "source": [
        "dataset.drop(['ID_EMPRESTIMO', 'ID_HISTORICO', 'GRAU_EMPRESTIMO', 'ID_PESSOAL'], axis = 'columns', inplace = True)"
      ],
      "metadata": {
        "id": "NF9FQG6nXUsp"
      },
      "execution_count": 5,
      "outputs": []
    },
    {
      "cell_type": "code",
      "source": [
        "#Informações sobre o dataset\n",
        "#Vemos que temos, pela quantidade de dados nulos:\n",
        "#ID_PESSOAL: 1, SALARIO_ANUAL: 9, PROP_SITUACAO: 11,  VALOR_TOTAL: 7, TAXA_JUROS: 105, POSSIB_INADIMPLENTE: 10, PERCENTUAL_RENDIMENTO_EMPRESTIMO: 16, PESSOA_INADIMPLENTE: 8, TEMPO_AQUISICAO: 0        \n",
        "dataset.info()"
      ],
      "metadata": {
        "id": "flmKDf4PZosk",
        "colab": {
          "base_uri": "https://localhost:8080/"
        },
        "outputId": "73e00497-571c-4bd4-abc9-b1649b3a552f"
      },
      "execution_count": 6,
      "outputs": [
        {
          "output_type": "stream",
          "name": "stdout",
          "text": [
            "<class 'pandas.core.frame.DataFrame'>\n",
            "RangeIndex: 1000 entries, 0 to 999\n",
            "Data columns (total 11 columns):\n",
            " #   Column                            Non-Null Count  Dtype  \n",
            "---  ------                            --------------  -----  \n",
            " 0   IDADE                             991 non-null    float64\n",
            " 1   SALARIO_ANUAL                     991 non-null    float64\n",
            " 2   PROP_SITUACAO                     989 non-null    object \n",
            " 3   TEMPO_TRAB                        972 non-null    float64\n",
            " 4   INTENCAO_EMPRESTIMO               991 non-null    object \n",
            " 5   VALOR_TOTAL                       993 non-null    float64\n",
            " 6   TAXA_JUROS                        895 non-null    float64\n",
            " 7   POSSIB_INADIMPLENTE               990 non-null    float64\n",
            " 8   PERCENTUAL_RENDIMENTO_EMPRESTIMO  984 non-null    float64\n",
            " 9   PESSOA_INADIMPLENTE               992 non-null    object \n",
            " 10  TEMPO_AQUISICAO                   1000 non-null   int64  \n",
            "dtypes: float64(7), int64(1), object(3)\n",
            "memory usage: 86.1+ KB\n"
          ]
        }
      ]
    },
    {
      "cell_type": "markdown",
      "source": [
        "# Tratamento de nulos e repetidos\n",
        "\n",
        "---\n",
        "Exclusão de colunas desnecessárias e linhas nulas para nossa aplicação. Também substituição dos dados nulos por 0 no campo \"TAXA_JUROS\".\n"
      ],
      "metadata": {
        "id": "SIXXbVedVJc0"
      }
    },
    {
      "cell_type": "code",
      "source": [
        "#Chamando um dataframe onde PERCENTUAL_RENDIMENTO_EMPRESTIMO é nulo\n",
        "dataset[dataset['PERCENTUAL_RENDIMENTO_EMPRESTIMO'].isnull()]"
      ],
      "metadata": {
        "colab": {
          "base_uri": "https://localhost:8080/",
          "height": 615
        },
        "id": "b6W6vJf0-1KP",
        "outputId": "7ace1da3-3b72-4659-c1d8-6e867fdfe5b8"
      },
      "execution_count": 7,
      "outputs": [
        {
          "output_type": "execute_result",
          "data": {
            "text/plain": [
              "     IDADE  SALARIO_ANUAL PROP_SITUACAO  TEMPO_TRAB INTENCAO_EMPRESTIMO  \\\n",
              "72    30.0        34000.0          Rent         0.0             Medical   \n",
              "80    24.0        29232.0      Mortgage         1.0                 NaN   \n",
              "205   25.0        74800.0          Rent         2.0             Medical   \n",
              "223   36.0        69000.0          Rent        20.0             Venture   \n",
              "227   37.0        35000.0           NaN         NaN             Medical   \n",
              "281    NaN        70000.0          Rent         5.0           Education   \n",
              "289    NaN        83400.0      Mortgage         2.0   Debtconsolidation   \n",
              "346   24.0        24000.0           NaN         0.0             Venture   \n",
              "448   26.0        26400.0           Own         8.0                 NaN   \n",
              "507   25.0       125000.0      Mortgage         5.0                 NaN   \n",
              "547   24.0        68000.0      Mortgage         7.0           Education   \n",
              "619   33.0       100000.0      Mortgage        16.0             Medical   \n",
              "643   23.0            NaN          Rent         0.0             Medical   \n",
              "679   27.0        45000.0           Own         9.0            Personal   \n",
              "842   29.0        38000.0      Mortgage         NaN           Education   \n",
              "874   31.0        65000.0      Mortgage         3.0   Debtconsolidation   \n",
              "\n",
              "     VALOR_TOTAL  TAXA_JUROS  POSSIB_INADIMPLENTE  \\\n",
              "72        6500.0       16.32                  0.0   \n",
              "80        6000.0         NaN                  1.0   \n",
              "205       5000.0       12.69                  NaN   \n",
              "223      12000.0         NaN                  0.0   \n",
              "227      14900.0       13.57                  0.0   \n",
              "281      13225.0       16.11                  0.0   \n",
              "289       2200.0        7.49                  1.0   \n",
              "346       7000.0       10.38                  0.0   \n",
              "448      17000.0        7.88                  1.0   \n",
              "507       8000.0       16.35                  0.0   \n",
              "547       5000.0       11.86                  NaN   \n",
              "619       6000.0        8.94                  NaN   \n",
              "643      12000.0       15.68                  0.0   \n",
              "679       5400.0         NaN                  1.0   \n",
              "842      15000.0       11.12                  0.0   \n",
              "874      10000.0       11.03                  NaN   \n",
              "\n",
              "     PERCENTUAL_RENDIMENTO_EMPRESTIMO PESSOA_INADIMPLENTE  TEMPO_AQUISICAO  \n",
              "72                                NaN                 NaN               10  \n",
              "80                                NaN                   N                3  \n",
              "205                               NaN                   N                3  \n",
              "223                               NaN                   N                2  \n",
              "227                               NaN                   N                3  \n",
              "281                               NaN                   Y                7  \n",
              "289                               NaN                   N                6  \n",
              "346                               NaN                   N                4  \n",
              "448                               NaN                   N                6  \n",
              "507                               NaN                   Y                5  \n",
              "547                               NaN                   N               10  \n",
              "619                               NaN                   N               12  \n",
              "643                               NaN                   Y                3  \n",
              "679                               NaN                   Y                3  \n",
              "842                               NaN                   N                3  \n",
              "874                               NaN                   N                3  "
            ],
            "text/html": [
              "\n",
              "  <div id=\"df-55ee3f96-7b49-4edd-8dcb-017e828b82ec\">\n",
              "    <div class=\"colab-df-container\">\n",
              "      <div>\n",
              "<style scoped>\n",
              "    .dataframe tbody tr th:only-of-type {\n",
              "        vertical-align: middle;\n",
              "    }\n",
              "\n",
              "    .dataframe tbody tr th {\n",
              "        vertical-align: top;\n",
              "    }\n",
              "\n",
              "    .dataframe thead th {\n",
              "        text-align: right;\n",
              "    }\n",
              "</style>\n",
              "<table border=\"1\" class=\"dataframe\">\n",
              "  <thead>\n",
              "    <tr style=\"text-align: right;\">\n",
              "      <th></th>\n",
              "      <th>IDADE</th>\n",
              "      <th>SALARIO_ANUAL</th>\n",
              "      <th>PROP_SITUACAO</th>\n",
              "      <th>TEMPO_TRAB</th>\n",
              "      <th>INTENCAO_EMPRESTIMO</th>\n",
              "      <th>VALOR_TOTAL</th>\n",
              "      <th>TAXA_JUROS</th>\n",
              "      <th>POSSIB_INADIMPLENTE</th>\n",
              "      <th>PERCENTUAL_RENDIMENTO_EMPRESTIMO</th>\n",
              "      <th>PESSOA_INADIMPLENTE</th>\n",
              "      <th>TEMPO_AQUISICAO</th>\n",
              "    </tr>\n",
              "  </thead>\n",
              "  <tbody>\n",
              "    <tr>\n",
              "      <th>72</th>\n",
              "      <td>30.0</td>\n",
              "      <td>34000.0</td>\n",
              "      <td>Rent</td>\n",
              "      <td>0.0</td>\n",
              "      <td>Medical</td>\n",
              "      <td>6500.0</td>\n",
              "      <td>16.32</td>\n",
              "      <td>0.0</td>\n",
              "      <td>NaN</td>\n",
              "      <td>NaN</td>\n",
              "      <td>10</td>\n",
              "    </tr>\n",
              "    <tr>\n",
              "      <th>80</th>\n",
              "      <td>24.0</td>\n",
              "      <td>29232.0</td>\n",
              "      <td>Mortgage</td>\n",
              "      <td>1.0</td>\n",
              "      <td>NaN</td>\n",
              "      <td>6000.0</td>\n",
              "      <td>NaN</td>\n",
              "      <td>1.0</td>\n",
              "      <td>NaN</td>\n",
              "      <td>N</td>\n",
              "      <td>3</td>\n",
              "    </tr>\n",
              "    <tr>\n",
              "      <th>205</th>\n",
              "      <td>25.0</td>\n",
              "      <td>74800.0</td>\n",
              "      <td>Rent</td>\n",
              "      <td>2.0</td>\n",
              "      <td>Medical</td>\n",
              "      <td>5000.0</td>\n",
              "      <td>12.69</td>\n",
              "      <td>NaN</td>\n",
              "      <td>NaN</td>\n",
              "      <td>N</td>\n",
              "      <td>3</td>\n",
              "    </tr>\n",
              "    <tr>\n",
              "      <th>223</th>\n",
              "      <td>36.0</td>\n",
              "      <td>69000.0</td>\n",
              "      <td>Rent</td>\n",
              "      <td>20.0</td>\n",
              "      <td>Venture</td>\n",
              "      <td>12000.0</td>\n",
              "      <td>NaN</td>\n",
              "      <td>0.0</td>\n",
              "      <td>NaN</td>\n",
              "      <td>N</td>\n",
              "      <td>2</td>\n",
              "    </tr>\n",
              "    <tr>\n",
              "      <th>227</th>\n",
              "      <td>37.0</td>\n",
              "      <td>35000.0</td>\n",
              "      <td>NaN</td>\n",
              "      <td>NaN</td>\n",
              "      <td>Medical</td>\n",
              "      <td>14900.0</td>\n",
              "      <td>13.57</td>\n",
              "      <td>0.0</td>\n",
              "      <td>NaN</td>\n",
              "      <td>N</td>\n",
              "      <td>3</td>\n",
              "    </tr>\n",
              "    <tr>\n",
              "      <th>281</th>\n",
              "      <td>NaN</td>\n",
              "      <td>70000.0</td>\n",
              "      <td>Rent</td>\n",
              "      <td>5.0</td>\n",
              "      <td>Education</td>\n",
              "      <td>13225.0</td>\n",
              "      <td>16.11</td>\n",
              "      <td>0.0</td>\n",
              "      <td>NaN</td>\n",
              "      <td>Y</td>\n",
              "      <td>7</td>\n",
              "    </tr>\n",
              "    <tr>\n",
              "      <th>289</th>\n",
              "      <td>NaN</td>\n",
              "      <td>83400.0</td>\n",
              "      <td>Mortgage</td>\n",
              "      <td>2.0</td>\n",
              "      <td>Debtconsolidation</td>\n",
              "      <td>2200.0</td>\n",
              "      <td>7.49</td>\n",
              "      <td>1.0</td>\n",
              "      <td>NaN</td>\n",
              "      <td>N</td>\n",
              "      <td>6</td>\n",
              "    </tr>\n",
              "    <tr>\n",
              "      <th>346</th>\n",
              "      <td>24.0</td>\n",
              "      <td>24000.0</td>\n",
              "      <td>NaN</td>\n",
              "      <td>0.0</td>\n",
              "      <td>Venture</td>\n",
              "      <td>7000.0</td>\n",
              "      <td>10.38</td>\n",
              "      <td>0.0</td>\n",
              "      <td>NaN</td>\n",
              "      <td>N</td>\n",
              "      <td>4</td>\n",
              "    </tr>\n",
              "    <tr>\n",
              "      <th>448</th>\n",
              "      <td>26.0</td>\n",
              "      <td>26400.0</td>\n",
              "      <td>Own</td>\n",
              "      <td>8.0</td>\n",
              "      <td>NaN</td>\n",
              "      <td>17000.0</td>\n",
              "      <td>7.88</td>\n",
              "      <td>1.0</td>\n",
              "      <td>NaN</td>\n",
              "      <td>N</td>\n",
              "      <td>6</td>\n",
              "    </tr>\n",
              "    <tr>\n",
              "      <th>507</th>\n",
              "      <td>25.0</td>\n",
              "      <td>125000.0</td>\n",
              "      <td>Mortgage</td>\n",
              "      <td>5.0</td>\n",
              "      <td>NaN</td>\n",
              "      <td>8000.0</td>\n",
              "      <td>16.35</td>\n",
              "      <td>0.0</td>\n",
              "      <td>NaN</td>\n",
              "      <td>Y</td>\n",
              "      <td>5</td>\n",
              "    </tr>\n",
              "    <tr>\n",
              "      <th>547</th>\n",
              "      <td>24.0</td>\n",
              "      <td>68000.0</td>\n",
              "      <td>Mortgage</td>\n",
              "      <td>7.0</td>\n",
              "      <td>Education</td>\n",
              "      <td>5000.0</td>\n",
              "      <td>11.86</td>\n",
              "      <td>NaN</td>\n",
              "      <td>NaN</td>\n",
              "      <td>N</td>\n",
              "      <td>10</td>\n",
              "    </tr>\n",
              "    <tr>\n",
              "      <th>619</th>\n",
              "      <td>33.0</td>\n",
              "      <td>100000.0</td>\n",
              "      <td>Mortgage</td>\n",
              "      <td>16.0</td>\n",
              "      <td>Medical</td>\n",
              "      <td>6000.0</td>\n",
              "      <td>8.94</td>\n",
              "      <td>NaN</td>\n",
              "      <td>NaN</td>\n",
              "      <td>N</td>\n",
              "      <td>12</td>\n",
              "    </tr>\n",
              "    <tr>\n",
              "      <th>643</th>\n",
              "      <td>23.0</td>\n",
              "      <td>NaN</td>\n",
              "      <td>Rent</td>\n",
              "      <td>0.0</td>\n",
              "      <td>Medical</td>\n",
              "      <td>12000.0</td>\n",
              "      <td>15.68</td>\n",
              "      <td>0.0</td>\n",
              "      <td>NaN</td>\n",
              "      <td>Y</td>\n",
              "      <td>3</td>\n",
              "    </tr>\n",
              "    <tr>\n",
              "      <th>679</th>\n",
              "      <td>27.0</td>\n",
              "      <td>45000.0</td>\n",
              "      <td>Own</td>\n",
              "      <td>9.0</td>\n",
              "      <td>Personal</td>\n",
              "      <td>5400.0</td>\n",
              "      <td>NaN</td>\n",
              "      <td>1.0</td>\n",
              "      <td>NaN</td>\n",
              "      <td>Y</td>\n",
              "      <td>3</td>\n",
              "    </tr>\n",
              "    <tr>\n",
              "      <th>842</th>\n",
              "      <td>29.0</td>\n",
              "      <td>38000.0</td>\n",
              "      <td>Mortgage</td>\n",
              "      <td>NaN</td>\n",
              "      <td>Education</td>\n",
              "      <td>15000.0</td>\n",
              "      <td>11.12</td>\n",
              "      <td>0.0</td>\n",
              "      <td>NaN</td>\n",
              "      <td>N</td>\n",
              "      <td>3</td>\n",
              "    </tr>\n",
              "    <tr>\n",
              "      <th>874</th>\n",
              "      <td>31.0</td>\n",
              "      <td>65000.0</td>\n",
              "      <td>Mortgage</td>\n",
              "      <td>3.0</td>\n",
              "      <td>Debtconsolidation</td>\n",
              "      <td>10000.0</td>\n",
              "      <td>11.03</td>\n",
              "      <td>NaN</td>\n",
              "      <td>NaN</td>\n",
              "      <td>N</td>\n",
              "      <td>3</td>\n",
              "    </tr>\n",
              "  </tbody>\n",
              "</table>\n",
              "</div>\n",
              "      <button class=\"colab-df-convert\" onclick=\"convertToInteractive('df-55ee3f96-7b49-4edd-8dcb-017e828b82ec')\"\n",
              "              title=\"Convert this dataframe to an interactive table.\"\n",
              "              style=\"display:none;\">\n",
              "        \n",
              "  <svg xmlns=\"http://www.w3.org/2000/svg\" height=\"24px\"viewBox=\"0 0 24 24\"\n",
              "       width=\"24px\">\n",
              "    <path d=\"M0 0h24v24H0V0z\" fill=\"none\"/>\n",
              "    <path d=\"M18.56 5.44l.94 2.06.94-2.06 2.06-.94-2.06-.94-.94-2.06-.94 2.06-2.06.94zm-11 1L8.5 8.5l.94-2.06 2.06-.94-2.06-.94L8.5 2.5l-.94 2.06-2.06.94zm10 10l.94 2.06.94-2.06 2.06-.94-2.06-.94-.94-2.06-.94 2.06-2.06.94z\"/><path d=\"M17.41 7.96l-1.37-1.37c-.4-.4-.92-.59-1.43-.59-.52 0-1.04.2-1.43.59L10.3 9.45l-7.72 7.72c-.78.78-.78 2.05 0 2.83L4 21.41c.39.39.9.59 1.41.59.51 0 1.02-.2 1.41-.59l7.78-7.78 2.81-2.81c.8-.78.8-2.07 0-2.86zM5.41 20L4 18.59l7.72-7.72 1.47 1.35L5.41 20z\"/>\n",
              "  </svg>\n",
              "      </button>\n",
              "      \n",
              "  <style>\n",
              "    .colab-df-container {\n",
              "      display:flex;\n",
              "      flex-wrap:wrap;\n",
              "      gap: 12px;\n",
              "    }\n",
              "\n",
              "    .colab-df-convert {\n",
              "      background-color: #E8F0FE;\n",
              "      border: none;\n",
              "      border-radius: 50%;\n",
              "      cursor: pointer;\n",
              "      display: none;\n",
              "      fill: #1967D2;\n",
              "      height: 32px;\n",
              "      padding: 0 0 0 0;\n",
              "      width: 32px;\n",
              "    }\n",
              "\n",
              "    .colab-df-convert:hover {\n",
              "      background-color: #E2EBFA;\n",
              "      box-shadow: 0px 1px 2px rgba(60, 64, 67, 0.3), 0px 1px 3px 1px rgba(60, 64, 67, 0.15);\n",
              "      fill: #174EA6;\n",
              "    }\n",
              "\n",
              "    [theme=dark] .colab-df-convert {\n",
              "      background-color: #3B4455;\n",
              "      fill: #D2E3FC;\n",
              "    }\n",
              "\n",
              "    [theme=dark] .colab-df-convert:hover {\n",
              "      background-color: #434B5C;\n",
              "      box-shadow: 0px 1px 3px 1px rgba(0, 0, 0, 0.15);\n",
              "      filter: drop-shadow(0px 1px 2px rgba(0, 0, 0, 0.3));\n",
              "      fill: #FFFFFF;\n",
              "    }\n",
              "  </style>\n",
              "\n",
              "      <script>\n",
              "        const buttonEl =\n",
              "          document.querySelector('#df-55ee3f96-7b49-4edd-8dcb-017e828b82ec button.colab-df-convert');\n",
              "        buttonEl.style.display =\n",
              "          google.colab.kernel.accessAllowed ? 'block' : 'none';\n",
              "\n",
              "        async function convertToInteractive(key) {\n",
              "          const element = document.querySelector('#df-55ee3f96-7b49-4edd-8dcb-017e828b82ec');\n",
              "          const dataTable =\n",
              "            await google.colab.kernel.invokeFunction('convertToInteractive',\n",
              "                                                     [key], {});\n",
              "          if (!dataTable) return;\n",
              "\n",
              "          const docLinkHtml = 'Like what you see? Visit the ' +\n",
              "            '<a target=\"_blank\" href=https://colab.research.google.com/notebooks/data_table.ipynb>data table notebook</a>'\n",
              "            + ' to learn more about interactive tables.';\n",
              "          element.innerHTML = '';\n",
              "          dataTable['output_type'] = 'display_data';\n",
              "          await google.colab.output.renderOutput(dataTable, element);\n",
              "          const docLink = document.createElement('div');\n",
              "          docLink.innerHTML = docLinkHtml;\n",
              "          element.appendChild(docLink);\n",
              "        }\n",
              "      </script>\n",
              "    </div>\n",
              "  </div>\n",
              "  "
            ]
          },
          "metadata": {},
          "execution_count": 7
        }
      ]
    },
    {
      "cell_type": "code",
      "source": [
        "#Excluindo dataframe que PERCENTUAL_RENDIMENTO_EMPRESTIMO, SALARIO_ANUAL, VALOR_TOTAL e PESSOA_INADIMPLENTE é nulo\n",
        "dataset.dropna(subset = ['PERCENTUAL_RENDIMENTO_EMPRESTIMO', 'SALARIO_ANUAL', 'VALOR_TOTAL', 'PESSOA_INADIMPLENTE'], inplace = True)"
      ],
      "metadata": {
        "id": "MHVU3Vq0A24v"
      },
      "execution_count": 8,
      "outputs": []
    },
    {
      "cell_type": "code",
      "source": [
        "dataset.info()"
      ],
      "metadata": {
        "colab": {
          "base_uri": "https://localhost:8080/"
        },
        "id": "zDPj9eUqKBvE",
        "outputId": "64d3c746-8f95-467b-a451-7ea06bf61dff"
      },
      "execution_count": 9,
      "outputs": [
        {
          "output_type": "stream",
          "name": "stdout",
          "text": [
            "<class 'pandas.core.frame.DataFrame'>\n",
            "Int64Index: 965 entries, 0 to 999\n",
            "Data columns (total 11 columns):\n",
            " #   Column                            Non-Null Count  Dtype  \n",
            "---  ------                            --------------  -----  \n",
            " 0   IDADE                             962 non-null    float64\n",
            " 1   SALARIO_ANUAL                     965 non-null    float64\n",
            " 2   PROP_SITUACAO                     958 non-null    object \n",
            " 3   TEMPO_TRAB                        943 non-null    float64\n",
            " 4   INTENCAO_EMPRESTIMO               959 non-null    object \n",
            " 5   VALOR_TOTAL                       965 non-null    float64\n",
            " 6   TAXA_JUROS                        868 non-null    float64\n",
            " 7   POSSIB_INADIMPLENTE               960 non-null    float64\n",
            " 8   PERCENTUAL_RENDIMENTO_EMPRESTIMO  965 non-null    float64\n",
            " 9   PESSOA_INADIMPLENTE               965 non-null    object \n",
            " 10  TEMPO_AQUISICAO                   965 non-null    int64  \n",
            "dtypes: float64(7), int64(1), object(3)\n",
            "memory usage: 90.5+ KB\n"
          ]
        }
      ]
    },
    {
      "cell_type": "code",
      "source": [
        "dataset.shape"
      ],
      "metadata": {
        "colab": {
          "base_uri": "https://localhost:8080/"
        },
        "id": "6wovTlvKKD31",
        "outputId": "fa585b62-61fd-4d37-b5b4-8ae03105d9b0"
      },
      "execution_count": 10,
      "outputs": [
        {
          "output_type": "execute_result",
          "data": {
            "text/plain": [
              "(965, 11)"
            ]
          },
          "metadata": {},
          "execution_count": 10
        }
      ]
    },
    {
      "cell_type": "code",
      "source": [
        "#Substituir TAXA_JUROS nulos pra 0\n",
        "dataset.fillna(0, inplace = True)"
      ],
      "metadata": {
        "id": "-19AHsAqLMiN"
      },
      "execution_count": 11,
      "outputs": []
    },
    {
      "cell_type": "code",
      "source": [
        "dataset.info()"
      ],
      "metadata": {
        "colab": {
          "base_uri": "https://localhost:8080/"
        },
        "id": "flgs5oy0U-Zt",
        "outputId": "ab046cbc-94b7-40a3-a908-07768e70f6cd"
      },
      "execution_count": 12,
      "outputs": [
        {
          "output_type": "stream",
          "name": "stdout",
          "text": [
            "<class 'pandas.core.frame.DataFrame'>\n",
            "Int64Index: 965 entries, 0 to 999\n",
            "Data columns (total 11 columns):\n",
            " #   Column                            Non-Null Count  Dtype  \n",
            "---  ------                            --------------  -----  \n",
            " 0   IDADE                             965 non-null    float64\n",
            " 1   SALARIO_ANUAL                     965 non-null    float64\n",
            " 2   PROP_SITUACAO                     965 non-null    object \n",
            " 3   TEMPO_TRAB                        965 non-null    float64\n",
            " 4   INTENCAO_EMPRESTIMO               965 non-null    object \n",
            " 5   VALOR_TOTAL                       965 non-null    float64\n",
            " 6   TAXA_JUROS                        965 non-null    float64\n",
            " 7   POSSIB_INADIMPLENTE               965 non-null    float64\n",
            " 8   PERCENTUAL_RENDIMENTO_EMPRESTIMO  965 non-null    float64\n",
            " 9   PESSOA_INADIMPLENTE               965 non-null    object \n",
            " 10  TEMPO_AQUISICAO                   965 non-null    int64  \n",
            "dtypes: float64(7), int64(1), object(3)\n",
            "memory usage: 90.5+ KB\n"
          ]
        }
      ]
    },
    {
      "cell_type": "code",
      "source": [
        "dataset.head(10)"
      ],
      "metadata": {
        "colab": {
          "base_uri": "https://localhost:8080/",
          "height": 427
        },
        "id": "3cktBwrjVAtF",
        "outputId": "051927be-e598-49e6-fc80-25270e8b829a"
      },
      "execution_count": 13,
      "outputs": [
        {
          "output_type": "execute_result",
          "data": {
            "text/plain": [
              "   IDADE  SALARIO_ANUAL PROP_SITUACAO  TEMPO_TRAB INTENCAO_EMPRESTIMO  \\\n",
              "0   27.0        68000.0          Rent         4.0     Homeimprovement   \n",
              "1   24.0        12600.0          Rent         2.0             Venture   \n",
              "2   30.0       100000.0          Rent        13.0   Debtconsolidation   \n",
              "3   28.0        83000.0      Mortgage         6.0   Debtconsolidation   \n",
              "4   30.0       110400.0          Rent         1.0             Venture   \n",
              "5   31.0        26988.0          Rent         0.0             Venture   \n",
              "6   24.0       117996.0      Mortgage         6.0             Venture   \n",
              "7   27.0        24000.0          Rent         2.0             Medical   \n",
              "8   21.0        21600.0          Rent         0.0   Debtconsolidation   \n",
              "9   21.0        26400.0          Rent         0.0            Personal   \n",
              "\n",
              "   VALOR_TOTAL  TAXA_JUROS  POSSIB_INADIMPLENTE  \\\n",
              "0       8700.0        7.88                  0.0   \n",
              "1       2500.0       13.11                  1.0   \n",
              "2      12000.0        7.88                  0.0   \n",
              "3       5000.0        0.00                  0.0   \n",
              "4      14000.0       16.89                  1.0   \n",
              "5       5800.0        6.62                  0.0   \n",
              "6      18000.0       17.04                  0.0   \n",
              "7       1450.0        0.00                  0.0   \n",
              "8       6700.0        6.92                  1.0   \n",
              "9       7000.0       14.84                  1.0   \n",
              "\n",
              "   PERCENTUAL_RENDIMENTO_EMPRESTIMO PESSOA_INADIMPLENTE  TEMPO_AQUISICAO  \n",
              "0                              0.13                   N                5  \n",
              "1                              0.20                   Y                2  \n",
              "2                              0.12                   N                9  \n",
              "3                              0.06                   N                9  \n",
              "4                              0.13                   N                6  \n",
              "5                              0.21                   N                9  \n",
              "6                              0.15                   Y                3  \n",
              "7                              0.06                   N                9  \n",
              "8                              0.31                   N                4  \n",
              "9                              0.27                   Y                3  "
            ],
            "text/html": [
              "\n",
              "  <div id=\"df-9637933e-df7e-454a-8b0b-99d20c01c13e\">\n",
              "    <div class=\"colab-df-container\">\n",
              "      <div>\n",
              "<style scoped>\n",
              "    .dataframe tbody tr th:only-of-type {\n",
              "        vertical-align: middle;\n",
              "    }\n",
              "\n",
              "    .dataframe tbody tr th {\n",
              "        vertical-align: top;\n",
              "    }\n",
              "\n",
              "    .dataframe thead th {\n",
              "        text-align: right;\n",
              "    }\n",
              "</style>\n",
              "<table border=\"1\" class=\"dataframe\">\n",
              "  <thead>\n",
              "    <tr style=\"text-align: right;\">\n",
              "      <th></th>\n",
              "      <th>IDADE</th>\n",
              "      <th>SALARIO_ANUAL</th>\n",
              "      <th>PROP_SITUACAO</th>\n",
              "      <th>TEMPO_TRAB</th>\n",
              "      <th>INTENCAO_EMPRESTIMO</th>\n",
              "      <th>VALOR_TOTAL</th>\n",
              "      <th>TAXA_JUROS</th>\n",
              "      <th>POSSIB_INADIMPLENTE</th>\n",
              "      <th>PERCENTUAL_RENDIMENTO_EMPRESTIMO</th>\n",
              "      <th>PESSOA_INADIMPLENTE</th>\n",
              "      <th>TEMPO_AQUISICAO</th>\n",
              "    </tr>\n",
              "  </thead>\n",
              "  <tbody>\n",
              "    <tr>\n",
              "      <th>0</th>\n",
              "      <td>27.0</td>\n",
              "      <td>68000.0</td>\n",
              "      <td>Rent</td>\n",
              "      <td>4.0</td>\n",
              "      <td>Homeimprovement</td>\n",
              "      <td>8700.0</td>\n",
              "      <td>7.88</td>\n",
              "      <td>0.0</td>\n",
              "      <td>0.13</td>\n",
              "      <td>N</td>\n",
              "      <td>5</td>\n",
              "    </tr>\n",
              "    <tr>\n",
              "      <th>1</th>\n",
              "      <td>24.0</td>\n",
              "      <td>12600.0</td>\n",
              "      <td>Rent</td>\n",
              "      <td>2.0</td>\n",
              "      <td>Venture</td>\n",
              "      <td>2500.0</td>\n",
              "      <td>13.11</td>\n",
              "      <td>1.0</td>\n",
              "      <td>0.20</td>\n",
              "      <td>Y</td>\n",
              "      <td>2</td>\n",
              "    </tr>\n",
              "    <tr>\n",
              "      <th>2</th>\n",
              "      <td>30.0</td>\n",
              "      <td>100000.0</td>\n",
              "      <td>Rent</td>\n",
              "      <td>13.0</td>\n",
              "      <td>Debtconsolidation</td>\n",
              "      <td>12000.0</td>\n",
              "      <td>7.88</td>\n",
              "      <td>0.0</td>\n",
              "      <td>0.12</td>\n",
              "      <td>N</td>\n",
              "      <td>9</td>\n",
              "    </tr>\n",
              "    <tr>\n",
              "      <th>3</th>\n",
              "      <td>28.0</td>\n",
              "      <td>83000.0</td>\n",
              "      <td>Mortgage</td>\n",
              "      <td>6.0</td>\n",
              "      <td>Debtconsolidation</td>\n",
              "      <td>5000.0</td>\n",
              "      <td>0.00</td>\n",
              "      <td>0.0</td>\n",
              "      <td>0.06</td>\n",
              "      <td>N</td>\n",
              "      <td>9</td>\n",
              "    </tr>\n",
              "    <tr>\n",
              "      <th>4</th>\n",
              "      <td>30.0</td>\n",
              "      <td>110400.0</td>\n",
              "      <td>Rent</td>\n",
              "      <td>1.0</td>\n",
              "      <td>Venture</td>\n",
              "      <td>14000.0</td>\n",
              "      <td>16.89</td>\n",
              "      <td>1.0</td>\n",
              "      <td>0.13</td>\n",
              "      <td>N</td>\n",
              "      <td>6</td>\n",
              "    </tr>\n",
              "    <tr>\n",
              "      <th>5</th>\n",
              "      <td>31.0</td>\n",
              "      <td>26988.0</td>\n",
              "      <td>Rent</td>\n",
              "      <td>0.0</td>\n",
              "      <td>Venture</td>\n",
              "      <td>5800.0</td>\n",
              "      <td>6.62</td>\n",
              "      <td>0.0</td>\n",
              "      <td>0.21</td>\n",
              "      <td>N</td>\n",
              "      <td>9</td>\n",
              "    </tr>\n",
              "    <tr>\n",
              "      <th>6</th>\n",
              "      <td>24.0</td>\n",
              "      <td>117996.0</td>\n",
              "      <td>Mortgage</td>\n",
              "      <td>6.0</td>\n",
              "      <td>Venture</td>\n",
              "      <td>18000.0</td>\n",
              "      <td>17.04</td>\n",
              "      <td>0.0</td>\n",
              "      <td>0.15</td>\n",
              "      <td>Y</td>\n",
              "      <td>3</td>\n",
              "    </tr>\n",
              "    <tr>\n",
              "      <th>7</th>\n",
              "      <td>27.0</td>\n",
              "      <td>24000.0</td>\n",
              "      <td>Rent</td>\n",
              "      <td>2.0</td>\n",
              "      <td>Medical</td>\n",
              "      <td>1450.0</td>\n",
              "      <td>0.00</td>\n",
              "      <td>0.0</td>\n",
              "      <td>0.06</td>\n",
              "      <td>N</td>\n",
              "      <td>9</td>\n",
              "    </tr>\n",
              "    <tr>\n",
              "      <th>8</th>\n",
              "      <td>21.0</td>\n",
              "      <td>21600.0</td>\n",
              "      <td>Rent</td>\n",
              "      <td>0.0</td>\n",
              "      <td>Debtconsolidation</td>\n",
              "      <td>6700.0</td>\n",
              "      <td>6.92</td>\n",
              "      <td>1.0</td>\n",
              "      <td>0.31</td>\n",
              "      <td>N</td>\n",
              "      <td>4</td>\n",
              "    </tr>\n",
              "    <tr>\n",
              "      <th>9</th>\n",
              "      <td>21.0</td>\n",
              "      <td>26400.0</td>\n",
              "      <td>Rent</td>\n",
              "      <td>0.0</td>\n",
              "      <td>Personal</td>\n",
              "      <td>7000.0</td>\n",
              "      <td>14.84</td>\n",
              "      <td>1.0</td>\n",
              "      <td>0.27</td>\n",
              "      <td>Y</td>\n",
              "      <td>3</td>\n",
              "    </tr>\n",
              "  </tbody>\n",
              "</table>\n",
              "</div>\n",
              "      <button class=\"colab-df-convert\" onclick=\"convertToInteractive('df-9637933e-df7e-454a-8b0b-99d20c01c13e')\"\n",
              "              title=\"Convert this dataframe to an interactive table.\"\n",
              "              style=\"display:none;\">\n",
              "        \n",
              "  <svg xmlns=\"http://www.w3.org/2000/svg\" height=\"24px\"viewBox=\"0 0 24 24\"\n",
              "       width=\"24px\">\n",
              "    <path d=\"M0 0h24v24H0V0z\" fill=\"none\"/>\n",
              "    <path d=\"M18.56 5.44l.94 2.06.94-2.06 2.06-.94-2.06-.94-.94-2.06-.94 2.06-2.06.94zm-11 1L8.5 8.5l.94-2.06 2.06-.94-2.06-.94L8.5 2.5l-.94 2.06-2.06.94zm10 10l.94 2.06.94-2.06 2.06-.94-2.06-.94-.94-2.06-.94 2.06-2.06.94z\"/><path d=\"M17.41 7.96l-1.37-1.37c-.4-.4-.92-.59-1.43-.59-.52 0-1.04.2-1.43.59L10.3 9.45l-7.72 7.72c-.78.78-.78 2.05 0 2.83L4 21.41c.39.39.9.59 1.41.59.51 0 1.02-.2 1.41-.59l7.78-7.78 2.81-2.81c.8-.78.8-2.07 0-2.86zM5.41 20L4 18.59l7.72-7.72 1.47 1.35L5.41 20z\"/>\n",
              "  </svg>\n",
              "      </button>\n",
              "      \n",
              "  <style>\n",
              "    .colab-df-container {\n",
              "      display:flex;\n",
              "      flex-wrap:wrap;\n",
              "      gap: 12px;\n",
              "    }\n",
              "\n",
              "    .colab-df-convert {\n",
              "      background-color: #E8F0FE;\n",
              "      border: none;\n",
              "      border-radius: 50%;\n",
              "      cursor: pointer;\n",
              "      display: none;\n",
              "      fill: #1967D2;\n",
              "      height: 32px;\n",
              "      padding: 0 0 0 0;\n",
              "      width: 32px;\n",
              "    }\n",
              "\n",
              "    .colab-df-convert:hover {\n",
              "      background-color: #E2EBFA;\n",
              "      box-shadow: 0px 1px 2px rgba(60, 64, 67, 0.3), 0px 1px 3px 1px rgba(60, 64, 67, 0.15);\n",
              "      fill: #174EA6;\n",
              "    }\n",
              "\n",
              "    [theme=dark] .colab-df-convert {\n",
              "      background-color: #3B4455;\n",
              "      fill: #D2E3FC;\n",
              "    }\n",
              "\n",
              "    [theme=dark] .colab-df-convert:hover {\n",
              "      background-color: #434B5C;\n",
              "      box-shadow: 0px 1px 3px 1px rgba(0, 0, 0, 0.15);\n",
              "      filter: drop-shadow(0px 1px 2px rgba(0, 0, 0, 0.3));\n",
              "      fill: #FFFFFF;\n",
              "    }\n",
              "  </style>\n",
              "\n",
              "      <script>\n",
              "        const buttonEl =\n",
              "          document.querySelector('#df-9637933e-df7e-454a-8b0b-99d20c01c13e button.colab-df-convert');\n",
              "        buttonEl.style.display =\n",
              "          google.colab.kernel.accessAllowed ? 'block' : 'none';\n",
              "\n",
              "        async function convertToInteractive(key) {\n",
              "          const element = document.querySelector('#df-9637933e-df7e-454a-8b0b-99d20c01c13e');\n",
              "          const dataTable =\n",
              "            await google.colab.kernel.invokeFunction('convertToInteractive',\n",
              "                                                     [key], {});\n",
              "          if (!dataTable) return;\n",
              "\n",
              "          const docLinkHtml = 'Like what you see? Visit the ' +\n",
              "            '<a target=\"_blank\" href=https://colab.research.google.com/notebooks/data_table.ipynb>data table notebook</a>'\n",
              "            + ' to learn more about interactive tables.';\n",
              "          element.innerHTML = '';\n",
              "          dataTable['output_type'] = 'display_data';\n",
              "          await google.colab.output.renderOutput(dataTable, element);\n",
              "          const docLink = document.createElement('div');\n",
              "          docLink.innerHTML = docLinkHtml;\n",
              "          element.appendChild(docLink);\n",
              "        }\n",
              "      </script>\n",
              "    </div>\n",
              "  </div>\n",
              "  "
            ]
          },
          "metadata": {},
          "execution_count": 13
        }
      ]
    },
    {
      "cell_type": "markdown",
      "source": [
        "# Identificação de Outliers\n",
        "\n",
        "---\n",
        "Visualização dos dados dos campos \"SALÁRIO_ANUAL\" com uma quantidade discrepante das demais. É aplicado um tratamento sobre esta.\n"
      ],
      "metadata": {
        "id": "KHR1SyB_Vk0e"
      }
    },
    {
      "cell_type": "code",
      "source": [
        "dataset.boxplot()"
      ],
      "metadata": {
        "colab": {
          "base_uri": "https://localhost:8080/",
          "height": 283
        },
        "id": "jd52WrkGVEpJ",
        "outputId": "2e616146-e084-41ca-f8ca-27bc1cfe4df1"
      },
      "execution_count": 14,
      "outputs": [
        {
          "output_type": "execute_result",
          "data": {
            "text/plain": [
              "<matplotlib.axes._subplots.AxesSubplot at 0x7f0a99277750>"
            ]
          },
          "metadata": {},
          "execution_count": 14
        },
        {
          "output_type": "display_data",
          "data": {
            "text/plain": [
              "<Figure size 432x288 with 1 Axes>"
            ],
            "image/png": "[encoded data removed]"
          },
          "metadata": {
            "needs_background": "light"
          }
        }
      ]
    },
    {
      "cell_type": "code",
      "source": [
        "#Tratamento de outliers para \"SALARIO_ANUAL\"\n",
        "valor = dataset['SALARIO_ANUAL']\n",
        "Q1 = valor.quantile(.25)\n",
        "Q3 = valor.quantile(.75)\n",
        "IIQ = Q3 - Q1\n",
        "limite_inferior = Q1 - 1.5 * IIQ\n",
        "limite_superior = Q3 + 1.5 * IIQ"
      ],
      "metadata": {
        "id": "eXrg3ZXfWZrx"
      },
      "execution_count": 15,
      "outputs": []
    },
    {
      "cell_type": "code",
      "source": [
        "#Adicionando alteração a um novo banco chamado \"dados_new\"\n",
        "selecao = (valor >=limite_inferior) & (valor <= limite_superior)\n",
        "dados_new = dataset[selecao]"
      ],
      "metadata": {
        "id": "Ja2YPhWxXXcp"
      },
      "execution_count": 16,
      "outputs": []
    },
    {
      "cell_type": "code",
      "source": [
        "dados_new.boxplot()"
      ],
      "metadata": {
        "colab": {
          "base_uri": "https://localhost:8080/",
          "height": 283
        },
        "id": "wyWDAKKEXd8i",
        "outputId": "2dd6377d-2513-4dd9-9a2d-14f82207ad5a"
      },
      "execution_count": 17,
      "outputs": [
        {
          "output_type": "execute_result",
          "data": {
            "text/plain": [
              "<matplotlib.axes._subplots.AxesSubplot at 0x7f0a990c7b10>"
            ]
          },
          "metadata": {},
          "execution_count": 17
        },
        {
          "output_type": "display_data",
          "data": {
            "text/plain": [
              "<Figure size 432x288 with 1 Axes>"
            ],
            "image/png": "[encoded data removed]"
          },
          "metadata": {
            "needs_background": "light"
          }
        }
      ]
    },
    {
      "cell_type": "markdown",
      "source": [
        "#Enconding de variáveis categóricas\n",
        "\n",
        "---\n",
        "Substituição dos dados de \"PESSOA_INADIMPLENTE\" por 1 ou 0, caso _Y_ ou _N_.\n",
        "Também alterando o tipo dos dados de float para int nos campos TEMPO_TRAB, POSSIB_INADIMPLENTE e IDADE.\n"
      ],
      "metadata": {
        "id": "Rmn0oUx7SNdD"
      }
    },
    {
      "cell_type": "code",
      "source": [
        "dataset.head()"
      ],
      "metadata": {
        "colab": {
          "base_uri": "https://localhost:8080/",
          "height": 270
        },
        "id": "wXFHp5FZRrjg",
        "outputId": "1eba8a76-670c-461d-e8f1-65ee371ca225"
      },
      "execution_count": 18,
      "outputs": [
        {
          "output_type": "execute_result",
          "data": {
            "text/plain": [
              "   IDADE  SALARIO_ANUAL PROP_SITUACAO  TEMPO_TRAB INTENCAO_EMPRESTIMO  \\\n",
              "0   27.0        68000.0          Rent         4.0     Homeimprovement   \n",
              "1   24.0        12600.0          Rent         2.0             Venture   \n",
              "2   30.0       100000.0          Rent        13.0   Debtconsolidation   \n",
              "3   28.0        83000.0      Mortgage         6.0   Debtconsolidation   \n",
              "4   30.0       110400.0          Rent         1.0             Venture   \n",
              "\n",
              "   VALOR_TOTAL  TAXA_JUROS  POSSIB_INADIMPLENTE  \\\n",
              "0       8700.0        7.88                  0.0   \n",
              "1       2500.0       13.11                  1.0   \n",
              "2      12000.0        7.88                  0.0   \n",
              "3       5000.0        0.00                  0.0   \n",
              "4      14000.0       16.89                  1.0   \n",
              "\n",
              "   PERCENTUAL_RENDIMENTO_EMPRESTIMO PESSOA_INADIMPLENTE  TEMPO_AQUISICAO  \n",
              "0                              0.13                   N                5  \n",
              "1                              0.20                   Y                2  \n",
              "2                              0.12                   N                9  \n",
              "3                              0.06                   N                9  \n",
              "4                              0.13                   N                6  "
            ],
            "text/html": [
              "\n",
              "  <div id=\"df-1bae185d-a50d-4ada-816f-1391b37b6845\">\n",
              "    <div class=\"colab-df-container\">\n",
              "      <div>\n",
              "<style scoped>\n",
              "    .dataframe tbody tr th:only-of-type {\n",
              "        vertical-align: middle;\n",
              "    }\n",
              "\n",
              "    .dataframe tbody tr th {\n",
              "        vertical-align: top;\n",
              "    }\n",
              "\n",
              "    .dataframe thead th {\n",
              "        text-align: right;\n",
              "    }\n",
              "</style>\n",
              "<table border=\"1\" class=\"dataframe\">\n",
              "  <thead>\n",
              "    <tr style=\"text-align: right;\">\n",
              "      <th></th>\n",
              "      <th>IDADE</th>\n",
              "      <th>SALARIO_ANUAL</th>\n",
              "      <th>PROP_SITUACAO</th>\n",
              "      <th>TEMPO_TRAB</th>\n",
              "      <th>INTENCAO_EMPRESTIMO</th>\n",
              "      <th>VALOR_TOTAL</th>\n",
              "      <th>TAXA_JUROS</th>\n",
              "      <th>POSSIB_INADIMPLENTE</th>\n",
              "      <th>PERCENTUAL_RENDIMENTO_EMPRESTIMO</th>\n",
              "      <th>PESSOA_INADIMPLENTE</th>\n",
              "      <th>TEMPO_AQUISICAO</th>\n",
              "    </tr>\n",
              "  </thead>\n",
              "  <tbody>\n",
              "    <tr>\n",
              "      <th>0</th>\n",
              "      <td>27.0</td>\n",
              "      <td>68000.0</td>\n",
              "      <td>Rent</td>\n",
              "      <td>4.0</td>\n",
              "      <td>Homeimprovement</td>\n",
              "      <td>8700.0</td>\n",
              "      <td>7.88</td>\n",
              "      <td>0.0</td>\n",
              "      <td>0.13</td>\n",
              "      <td>N</td>\n",
              "      <td>5</td>\n",
              "    </tr>\n",
              "    <tr>\n",
              "      <th>1</th>\n",
              "      <td>24.0</td>\n",
              "      <td>12600.0</td>\n",
              "      <td>Rent</td>\n",
              "      <td>2.0</td>\n",
              "      <td>Venture</td>\n",
              "      <td>2500.0</td>\n",
              "      <td>13.11</td>\n",
              "      <td>1.0</td>\n",
              "      <td>0.20</td>\n",
              "      <td>Y</td>\n",
              "      <td>2</td>\n",
              "    </tr>\n",
              "    <tr>\n",
              "      <th>2</th>\n",
              "      <td>30.0</td>\n",
              "      <td>100000.0</td>\n",
              "      <td>Rent</td>\n",
              "      <td>13.0</td>\n",
              "      <td>Debtconsolidation</td>\n",
              "      <td>12000.0</td>\n",
              "      <td>7.88</td>\n",
              "      <td>0.0</td>\n",
              "      <td>0.12</td>\n",
              "      <td>N</td>\n",
              "      <td>9</td>\n",
              "    </tr>\n",
              "    <tr>\n",
              "      <th>3</th>\n",
              "      <td>28.0</td>\n",
              "      <td>83000.0</td>\n",
              "      <td>Mortgage</td>\n",
              "      <td>6.0</td>\n",
              "      <td>Debtconsolidation</td>\n",
              "      <td>5000.0</td>\n",
              "      <td>0.00</td>\n",
              "      <td>0.0</td>\n",
              "      <td>0.06</td>\n",
              "      <td>N</td>\n",
              "      <td>9</td>\n",
              "    </tr>\n",
              "    <tr>\n",
              "      <th>4</th>\n",
              "      <td>30.0</td>\n",
              "      <td>110400.0</td>\n",
              "      <td>Rent</td>\n",
              "      <td>1.0</td>\n",
              "      <td>Venture</td>\n",
              "      <td>14000.0</td>\n",
              "      <td>16.89</td>\n",
              "      <td>1.0</td>\n",
              "      <td>0.13</td>\n",
              "      <td>N</td>\n",
              "      <td>6</td>\n",
              "    </tr>\n",
              "  </tbody>\n",
              "</table>\n",
              "</div>\n",
              "      <button class=\"colab-df-convert\" onclick=\"convertToInteractive('df-1bae185d-a50d-4ada-816f-1391b37b6845')\"\n",
              "              title=\"Convert this dataframe to an interactive table.\"\n",
              "              style=\"display:none;\">\n",
              "        \n",
              "  <svg xmlns=\"http://www.w3.org/2000/svg\" height=\"24px\"viewBox=\"0 0 24 24\"\n",
              "       width=\"24px\">\n",
              "    <path d=\"M0 0h24v24H0V0z\" fill=\"none\"/>\n",
              "    <path d=\"M18.56 5.44l.94 2.06.94-2.06 2.06-.94-2.06-.94-.94-2.06-.94 2.06-2.06.94zm-11 1L8.5 8.5l.94-2.06 2.06-.94-2.06-.94L8.5 2.5l-.94 2.06-2.06.94zm10 10l.94 2.06.94-2.06 2.06-.94-2.06-.94-.94-2.06-.94 2.06-2.06.94z\"/><path d=\"M17.41 7.96l-1.37-1.37c-.4-.4-.92-.59-1.43-.59-.52 0-1.04.2-1.43.59L10.3 9.45l-7.72 7.72c-.78.78-.78 2.05 0 2.83L4 21.41c.39.39.9.59 1.41.59.51 0 1.02-.2 1.41-.59l7.78-7.78 2.81-2.81c.8-.78.8-2.07 0-2.86zM5.41 20L4 18.59l7.72-7.72 1.47 1.35L5.41 20z\"/>\n",
              "  </svg>\n",
              "      </button>\n",
              "      \n",
              "  <style>\n",
              "    .colab-df-container {\n",
              "      display:flex;\n",
              "      flex-wrap:wrap;\n",
              "      gap: 12px;\n",
              "    }\n",
              "\n",
              "    .colab-df-convert {\n",
              "      background-color: #E8F0FE;\n",
              "      border: none;\n",
              "      border-radius: 50%;\n",
              "      cursor: pointer;\n",
              "      display: none;\n",
              "      fill: #1967D2;\n",
              "      height: 32px;\n",
              "      padding: 0 0 0 0;\n",
              "      width: 32px;\n",
              "    }\n",
              "\n",
              "    .colab-df-convert:hover {\n",
              "      background-color: #E2EBFA;\n",
              "      box-shadow: 0px 1px 2px rgba(60, 64, 67, 0.3), 0px 1px 3px 1px rgba(60, 64, 67, 0.15);\n",
              "      fill: #174EA6;\n",
              "    }\n",
              "\n",
              "    [theme=dark] .colab-df-convert {\n",
              "      background-color: #3B4455;\n",
              "      fill: #D2E3FC;\n",
              "    }\n",
              "\n",
              "    [theme=dark] .colab-df-convert:hover {\n",
              "      background-color: #434B5C;\n",
              "      box-shadow: 0px 1px 3px 1px rgba(0, 0, 0, 0.15);\n",
              "      filter: drop-shadow(0px 1px 2px rgba(0, 0, 0, 0.3));\n",
              "      fill: #FFFFFF;\n",
              "    }\n",
              "  </style>\n",
              "\n",
              "      <script>\n",
              "        const buttonEl =\n",
              "          document.querySelector('#df-1bae185d-a50d-4ada-816f-1391b37b6845 button.colab-df-convert');\n",
              "        buttonEl.style.display =\n",
              "          google.colab.kernel.accessAllowed ? 'block' : 'none';\n",
              "\n",
              "        async function convertToInteractive(key) {\n",
              "          const element = document.querySelector('#df-1bae185d-a50d-4ada-816f-1391b37b6845');\n",
              "          const dataTable =\n",
              "            await google.colab.kernel.invokeFunction('convertToInteractive',\n",
              "                                                     [key], {});\n",
              "          if (!dataTable) return;\n",
              "\n",
              "          const docLinkHtml = 'Like what you see? Visit the ' +\n",
              "            '<a target=\"_blank\" href=https://colab.research.google.com/notebooks/data_table.ipynb>data table notebook</a>'\n",
              "            + ' to learn more about interactive tables.';\n",
              "          element.innerHTML = '';\n",
              "          dataTable['output_type'] = 'display_data';\n",
              "          await google.colab.output.renderOutput(dataTable, element);\n",
              "          const docLink = document.createElement('div');\n",
              "          docLink.innerHTML = docLinkHtml;\n",
              "          element.appendChild(docLink);\n",
              "        }\n",
              "      </script>\n",
              "    </div>\n",
              "  </div>\n",
              "  "
            ]
          },
          "metadata": {},
          "execution_count": 18
        }
      ]
    },
    {
      "cell_type": "code",
      "source": [
        "dataset['PESSOA_INADIMPLENTE'].unique()"
      ],
      "metadata": {
        "colab": {
          "base_uri": "https://localhost:8080/"
        },
        "id": "49rbIyaKUF9J",
        "outputId": "c478cf27-5c5c-44f6-ced1-729b517eec15"
      },
      "execution_count": 19,
      "outputs": [
        {
          "output_type": "execute_result",
          "data": {
            "text/plain": [
              "array(['N', 'Y'], dtype=object)"
            ]
          },
          "metadata": {},
          "execution_count": 19
        }
      ]
    },
    {
      "cell_type": "code",
      "source": [
        "dataset['POSSIB_INADIMPLENTE'].unique()"
      ],
      "metadata": {
        "colab": {
          "base_uri": "https://localhost:8080/"
        },
        "id": "BqC7278QV3ZZ",
        "outputId": "fab31909-00aa-4cac-ba71-9777a20ab388"
      },
      "execution_count": 20,
      "outputs": [
        {
          "output_type": "execute_result",
          "data": {
            "text/plain": [
              "array([0., 1.])"
            ]
          },
          "metadata": {},
          "execution_count": 20
        }
      ]
    },
    {
      "cell_type": "code",
      "source": [
        "dataset['INTENCAO_EMPRESTIMO'].unique()"
      ],
      "metadata": {
        "colab": {
          "base_uri": "https://localhost:8080/"
        },
        "id": "O1gXTCcVYmDB",
        "outputId": "e385f419-a137-475a-f169-5b4663fcc329"
      },
      "execution_count": 21,
      "outputs": [
        {
          "output_type": "execute_result",
          "data": {
            "text/plain": [
              "array(['Homeimprovement', 'Venture', 'Debtconsolidation', 'Medical',\n",
              "       'Personal', 'Education', 0], dtype=object)"
            ]
          },
          "metadata": {},
          "execution_count": 21
        }
      ]
    },
    {
      "cell_type": "code",
      "source": [
        "dataset['PROP_SITUACAO'].unique()"
      ],
      "metadata": {
        "colab": {
          "base_uri": "https://localhost:8080/"
        },
        "id": "MCcrTjFHYsLd",
        "outputId": "cb7e978f-61ab-4510-9e24-c5af0ba6b76d"
      },
      "execution_count": 22,
      "outputs": [
        {
          "output_type": "execute_result",
          "data": {
            "text/plain": [
              "array(['Rent', 'Mortgage', 'Own', 0, 'Other'], dtype=object)"
            ]
          },
          "metadata": {},
          "execution_count": 22
        }
      ]
    },
    {
      "cell_type": "code",
      "source": [
        "d = {'Homeimprovement': 1, 'Venture': 2, 'Debtconsolidation': 3, 'Medical': 4,\n",
        "       'Personal': 5, 'Education': 6, 0: 0}\n",
        "dataset['INTENCAO_EMPRESTIMO'] = dataset['INTENCAO_EMPRESTIMO'].map(d)"
      ],
      "metadata": {
        "id": "u20pse3_TGuQ"
      },
      "execution_count": 23,
      "outputs": []
    },
    {
      "cell_type": "code",
      "source": [
        "r = {\"Y\": 1, \"N\": 0}\n",
        "dataset['PESSOA_INADIMPLENTE'] = dataset['PESSOA_INADIMPLENTE'].map(r)"
      ],
      "metadata": {
        "id": "EpiZc9M-ZlQh"
      },
      "execution_count": 24,
      "outputs": []
    },
    {
      "cell_type": "code",
      "source": [
        "s = {'Rent': 1, 'Mortgage': 2, 'Own': 3, 0: 0, 'Other': 4}\n",
        "dataset['PROP_SITUACAO'] = dataset['PROP_SITUACAO'].map(s)"
      ],
      "metadata": {
        "id": "hsNMOXtgZ_40"
      },
      "execution_count": 25,
      "outputs": []
    },
    {
      "cell_type": "code",
      "source": [
        "dataset['POSSIB_INADIMPLENTE'] = dataset['POSSIB_INADIMPLENTE'].astype(int)"
      ],
      "metadata": {
        "id": "YAhGwUO2UXNc"
      },
      "execution_count": 26,
      "outputs": []
    },
    {
      "cell_type": "code",
      "source": [
        "dataset['IDADE'] = dataset['IDADE'].astype(int)"
      ],
      "metadata": {
        "id": "N60GOYIAaVEs"
      },
      "execution_count": 27,
      "outputs": []
    },
    {
      "cell_type": "code",
      "source": [
        "dataset['TEMPO_TRAB'] = dataset['TEMPO_TRAB'].astype(int)"
      ],
      "metadata": {
        "id": "APgoW5mZacPh"
      },
      "execution_count": 28,
      "outputs": []
    },
    {
      "cell_type": "code",
      "source": [
        "dataset.head()"
      ],
      "metadata": {
        "colab": {
          "base_uri": "https://localhost:8080/",
          "height": 270
        },
        "id": "4J10tV4DUU1C",
        "outputId": "857d2d97-8fc3-47b3-e102-222faf636eaf"
      },
      "execution_count": 29,
      "outputs": [
        {
          "output_type": "execute_result",
          "data": {
            "text/plain": [
              "   IDADE  SALARIO_ANUAL  PROP_SITUACAO  TEMPO_TRAB  INTENCAO_EMPRESTIMO  \\\n",
              "0     27        68000.0              1           4                    1   \n",
              "1     24        12600.0              1           2                    2   \n",
              "2     30       100000.0              1          13                    3   \n",
              "3     28        83000.0              2           6                    3   \n",
              "4     30       110400.0              1           1                    2   \n",
              "\n",
              "   VALOR_TOTAL  TAXA_JUROS  POSSIB_INADIMPLENTE  \\\n",
              "0       8700.0        7.88                    0   \n",
              "1       2500.0       13.11                    1   \n",
              "2      12000.0        7.88                    0   \n",
              "3       5000.0        0.00                    0   \n",
              "4      14000.0       16.89                    1   \n",
              "\n",
              "   PERCENTUAL_RENDIMENTO_EMPRESTIMO  PESSOA_INADIMPLENTE  TEMPO_AQUISICAO  \n",
              "0                              0.13                    0                5  \n",
              "1                              0.20                    1                2  \n",
              "2                              0.12                    0                9  \n",
              "3                              0.06                    0                9  \n",
              "4                              0.13                    0                6  "
            ],
            "text/html": [
              "\n",
              "  <div id=\"df-c8999bf6-218e-4d61-8793-42f1cc58e058\">\n",
              "    <div class=\"colab-df-container\">\n",
              "      <div>\n",
              "<style scoped>\n",
              "    .dataframe tbody tr th:only-of-type {\n",
              "        vertical-align: middle;\n",
              "    }\n",
              "\n",
              "    .dataframe tbody tr th {\n",
              "        vertical-align: top;\n",
              "    }\n",
              "\n",
              "    .dataframe thead th {\n",
              "        text-align: right;\n",
              "    }\n",
              "</style>\n",
              "<table border=\"1\" class=\"dataframe\">\n",
              "  <thead>\n",
              "    <tr style=\"text-align: right;\">\n",
              "      <th></th>\n",
              "      <th>IDADE</th>\n",
              "      <th>SALARIO_ANUAL</th>\n",
              "      <th>PROP_SITUACAO</th>\n",
              "      <th>TEMPO_TRAB</th>\n",
              "      <th>INTENCAO_EMPRESTIMO</th>\n",
              "      <th>VALOR_TOTAL</th>\n",
              "      <th>TAXA_JUROS</th>\n",
              "      <th>POSSIB_INADIMPLENTE</th>\n",
              "      <th>PERCENTUAL_RENDIMENTO_EMPRESTIMO</th>\n",
              "      <th>PESSOA_INADIMPLENTE</th>\n",
              "      <th>TEMPO_AQUISICAO</th>\n",
              "    </tr>\n",
              "  </thead>\n",
              "  <tbody>\n",
              "    <tr>\n",
              "      <th>0</th>\n",
              "      <td>27</td>\n",
              "      <td>68000.0</td>\n",
              "      <td>1</td>\n",
              "      <td>4</td>\n",
              "      <td>1</td>\n",
              "      <td>8700.0</td>\n",
              "      <td>7.88</td>\n",
              "      <td>0</td>\n",
              "      <td>0.13</td>\n",
              "      <td>0</td>\n",
              "      <td>5</td>\n",
              "    </tr>\n",
              "    <tr>\n",
              "      <th>1</th>\n",
              "      <td>24</td>\n",
              "      <td>12600.0</td>\n",
              "      <td>1</td>\n",
              "      <td>2</td>\n",
              "      <td>2</td>\n",
              "      <td>2500.0</td>\n",
              "      <td>13.11</td>\n",
              "      <td>1</td>\n",
              "      <td>0.20</td>\n",
              "      <td>1</td>\n",
              "      <td>2</td>\n",
              "    </tr>\n",
              "    <tr>\n",
              "      <th>2</th>\n",
              "      <td>30</td>\n",
              "      <td>100000.0</td>\n",
              "      <td>1</td>\n",
              "      <td>13</td>\n",
              "      <td>3</td>\n",
              "      <td>12000.0</td>\n",
              "      <td>7.88</td>\n",
              "      <td>0</td>\n",
              "      <td>0.12</td>\n",
              "      <td>0</td>\n",
              "      <td>9</td>\n",
              "    </tr>\n",
              "    <tr>\n",
              "      <th>3</th>\n",
              "      <td>28</td>\n",
              "      <td>83000.0</td>\n",
              "      <td>2</td>\n",
              "      <td>6</td>\n",
              "      <td>3</td>\n",
              "      <td>5000.0</td>\n",
              "      <td>0.00</td>\n",
              "      <td>0</td>\n",
              "      <td>0.06</td>\n",
              "      <td>0</td>\n",
              "      <td>9</td>\n",
              "    </tr>\n",
              "    <tr>\n",
              "      <th>4</th>\n",
              "      <td>30</td>\n",
              "      <td>110400.0</td>\n",
              "      <td>1</td>\n",
              "      <td>1</td>\n",
              "      <td>2</td>\n",
              "      <td>14000.0</td>\n",
              "      <td>16.89</td>\n",
              "      <td>1</td>\n",
              "      <td>0.13</td>\n",
              "      <td>0</td>\n",
              "      <td>6</td>\n",
              "    </tr>\n",
              "  </tbody>\n",
              "</table>\n",
              "</div>\n",
              "      <button class=\"colab-df-convert\" onclick=\"convertToInteractive('df-c8999bf6-218e-4d61-8793-42f1cc58e058')\"\n",
              "              title=\"Convert this dataframe to an interactive table.\"\n",
              "              style=\"display:none;\">\n",
              "        \n",
              "  <svg xmlns=\"http://www.w3.org/2000/svg\" height=\"24px\"viewBox=\"0 0 24 24\"\n",
              "       width=\"24px\">\n",
              "    <path d=\"M0 0h24v24H0V0z\" fill=\"none\"/>\n",
              "    <path d=\"M18.56 5.44l.94 2.06.94-2.06 2.06-.94-2.06-.94-.94-2.06-.94 2.06-2.06.94zm-11 1L8.5 8.5l.94-2.06 2.06-.94-2.06-.94L8.5 2.5l-.94 2.06-2.06.94zm10 10l.94 2.06.94-2.06 2.06-.94-2.06-.94-.94-2.06-.94 2.06-2.06.94z\"/><path d=\"M17.41 7.96l-1.37-1.37c-.4-.4-.92-.59-1.43-.59-.52 0-1.04.2-1.43.59L10.3 9.45l-7.72 7.72c-.78.78-.78 2.05 0 2.83L4 21.41c.39.39.9.59 1.41.59.51 0 1.02-.2 1.41-.59l7.78-7.78 2.81-2.81c.8-.78.8-2.07 0-2.86zM5.41 20L4 18.59l7.72-7.72 1.47 1.35L5.41 20z\"/>\n",
              "  </svg>\n",
              "      </button>\n",
              "      \n",
              "  <style>\n",
              "    .colab-df-container {\n",
              "      display:flex;\n",
              "      flex-wrap:wrap;\n",
              "      gap: 12px;\n",
              "    }\n",
              "\n",
              "    .colab-df-convert {\n",
              "      background-color: #E8F0FE;\n",
              "      border: none;\n",
              "      border-radius: 50%;\n",
              "      cursor: pointer;\n",
              "      display: none;\n",
              "      fill: #1967D2;\n",
              "      height: 32px;\n",
              "      padding: 0 0 0 0;\n",
              "      width: 32px;\n",
              "    }\n",
              "\n",
              "    .colab-df-convert:hover {\n",
              "      background-color: #E2EBFA;\n",
              "      box-shadow: 0px 1px 2px rgba(60, 64, 67, 0.3), 0px 1px 3px 1px rgba(60, 64, 67, 0.15);\n",
              "      fill: #174EA6;\n",
              "    }\n",
              "\n",
              "    [theme=dark] .colab-df-convert {\n",
              "      background-color: #3B4455;\n",
              "      fill: #D2E3FC;\n",
              "    }\n",
              "\n",
              "    [theme=dark] .colab-df-convert:hover {\n",
              "      background-color: #434B5C;\n",
              "      box-shadow: 0px 1px 3px 1px rgba(0, 0, 0, 0.15);\n",
              "      filter: drop-shadow(0px 1px 2px rgba(0, 0, 0, 0.3));\n",
              "      fill: #FFFFFF;\n",
              "    }\n",
              "  </style>\n",
              "\n",
              "      <script>\n",
              "        const buttonEl =\n",
              "          document.querySelector('#df-c8999bf6-218e-4d61-8793-42f1cc58e058 button.colab-df-convert');\n",
              "        buttonEl.style.display =\n",
              "          google.colab.kernel.accessAllowed ? 'block' : 'none';\n",
              "\n",
              "        async function convertToInteractive(key) {\n",
              "          const element = document.querySelector('#df-c8999bf6-218e-4d61-8793-42f1cc58e058');\n",
              "          const dataTable =\n",
              "            await google.colab.kernel.invokeFunction('convertToInteractive',\n",
              "                                                     [key], {});\n",
              "          if (!dataTable) return;\n",
              "\n",
              "          const docLinkHtml = 'Like what you see? Visit the ' +\n",
              "            '<a target=\"_blank\" href=https://colab.research.google.com/notebooks/data_table.ipynb>data table notebook</a>'\n",
              "            + ' to learn more about interactive tables.';\n",
              "          element.innerHTML = '';\n",
              "          dataTable['output_type'] = 'display_data';\n",
              "          await google.colab.output.renderOutput(dataTable, element);\n",
              "          const docLink = document.createElement('div');\n",
              "          docLink.innerHTML = docLinkHtml;\n",
              "          element.appendChild(docLink);\n",
              "        }\n",
              "      </script>\n",
              "    </div>\n",
              "  </div>\n",
              "  "
            ]
          },
          "metadata": {},
          "execution_count": 29
        }
      ]
    },
    {
      "cell_type": "markdown",
      "source": [
        "#Tratando desbalanceamento de dados da variável alvo\n",
        "\n",
        "---\n",
        ">Algoritmo utilizado: Near Miss\n"
      ],
      "metadata": {
        "id": "QPqHQriVbEDd"
      }
    },
    {
      "cell_type": "code",
      "source": [
        "#A partir desse histograma, podemos ver que a variável com 0 possue bem mais dados do que com 1 \n",
        "histogramas = ['PESSOA_INADIMPLENTE']\n",
        "lista_histogramas = list(enumerate(histogramas))\n",
        "\n",
        "plt.figure(figsize= (10, 10))\n",
        "\n",
        "for i in lista_histogramas:\n",
        "  plt.subplot(2, 2, i[0]+1)\n",
        "  sns.countplot(x = i[1], data = dataset)"
      ],
      "metadata": {
        "id": "oOC2OKaxUi9s",
        "colab": {
          "base_uri": "https://localhost:8080/",
          "height": 310
        },
        "outputId": "c8770219-3a56-4537-c260-58de184b2e4a"
      },
      "execution_count": 30,
      "outputs": [
        {
          "output_type": "display_data",
          "data": {
            "text/plain": [
              "<Figure size 720x720 with 1 Axes>"
            ],
            "image/png": "[encoded data removed]"
          },
          "metadata": {
            "needs_background": "light"
          }
        }
      ]
    },
    {
      "cell_type": "code",
      "source": [
        "dataset['PESSOA_INADIMPLENTE'].value_counts()"
      ],
      "metadata": {
        "id": "vw25Zmz0F6nd",
        "colab": {
          "base_uri": "https://localhost:8080/"
        },
        "outputId": "ca0ee76a-5e25-42b6-dd29-c31726a46061"
      },
      "execution_count": 31,
      "outputs": [
        {
          "output_type": "execute_result",
          "data": {
            "text/plain": [
              "0    787\n",
              "1    178\n",
              "Name: PESSOA_INADIMPLENTE, dtype: int64"
            ]
          },
          "metadata": {},
          "execution_count": 31
        }
      ]
    },
    {
      "cell_type": "markdown",
      "source": [
        "##Tratando"
      ],
      "metadata": {
        "id": "6zMbXAaLdq3p"
      }
    },
    {
      "cell_type": "code",
      "source": [
        "x = dataset.drop(columns = ['PESSOA_INADIMPLENTE'])\n",
        "y = dataset['PESSOA_INADIMPLENTE']"
      ],
      "metadata": {
        "id": "6u6cD_v6iSIx"
      },
      "execution_count": 32,
      "outputs": []
    },
    {
      "cell_type": "code",
      "source": [
        "#Separando as bases de teste e treino para nosso modelo de classificação\n",
        "SEED = 77\n",
        "treino_x, teste_x, treino_y, teste_y = train_test_split(x, y, test_size=0.30, random_state=SEED)\n",
        "base_treino = treino_x.shape[0]\n",
        "base_teste = teste_x.shape[0]\n",
        "print(\"A base de treino tem {} elementos e a base de teste tem {} elementos\".format(base_treino, base_teste))"
      ],
      "metadata": {
        "colab": {
          "base_uri": "https://localhost:8080/"
        },
        "id": "CHRq_xoTuFT_",
        "outputId": "80caedc6-373a-41f4-ed28-ee64471246be"
      },
      "execution_count": 39,
      "outputs": [
        {
          "output_type": "stream",
          "name": "stdout",
          "text": [
            "A base de treino tem 675 elementos e a base de teste tem 290 elementos\n"
          ]
        }
      ]
    },
    {
      "cell_type": "code",
      "source": [
        "#Utilizando o algoritmo Near Miss para balanceamento da variável alvo\n",
        "nr = NearMiss() \n",
        "X_near, Y_near= nr.fit_resample(treino_x, treino_y.ravel()) \n",
        "c = Counter(Y_near)\n",
        "for out, _ in c.items():\n",
        "  points = np.where(y == out)[0]"
      ],
      "metadata": {
        "id": "Z1Bg1XbRDCEf"
      },
      "execution_count": 40,
      "outputs": []
    },
    {
      "cell_type": "markdown",
      "source": [
        "#Treinando modelo de Classificação\n",
        "\n",
        "---\n",
        "\n",
        ">Algoritmo utilizado: LogisticRegression"
      ],
      "metadata": {
        "id": "g72jTiiafr11"
      }
    },
    {
      "cell_type": "code",
      "source": [
        "#Treinando \n",
        "modelo_LR = LogisticRegression(max_iter=1000) \n",
        "modelo_LR.fit(X_near, Y_near.ravel()) \n",
        "y_pred = modelo_LR.predict(teste_x)  "
      ],
      "metadata": {
        "id": "MJ8dfg_sceEt"
      },
      "execution_count": 55,
      "outputs": []
    },
    {
      "cell_type": "markdown",
      "source": [
        "#Validando Modelo\n",
        "\n",
        "*   Score\n",
        "*   Matriz de Confusão\n",
        "*   Curva ROC\n",
        "\n"
      ],
      "metadata": {
        "id": "iVp-MOTWfFHs"
      }
    },
    {
      "cell_type": "code",
      "source": [
        "#Score\n",
        "print(round(modelo_LR.score(X_near, Y_near), 2)*100)"
      ],
      "metadata": {
        "colab": {
          "base_uri": "https://localhost:8080/"
        },
        "id": "wBAKkzAdeRd9",
        "outputId": "5dbb5ecd-c4ec-4f07-da1d-339a1050affe"
      },
      "execution_count": 44,
      "outputs": [
        {
          "output_type": "stream",
          "name": "stdout",
          "text": [
            "69.0\n"
          ]
        }
      ]
    },
    {
      "cell_type": "code",
      "source": [
        "#Matrix de confusão \n",
        "matriz_confusao = plot_confusion_matrix(modelo_LR, X_near, Y_near, cmap='Blues', values_format='.3g')\n",
        "matriz_confusao"
      ],
      "metadata": {
        "colab": {
          "base_uri": "https://localhost:8080/",
          "height": 351
        },
        "id": "_COEwdSaeyeI",
        "outputId": "f5877ab8-c24b-4a94-9452-df14ac8e1b69"
      },
      "execution_count": 53,
      "outputs": [
        {
          "output_type": "stream",
          "name": "stderr",
          "text": [
            "/usr/local/lib/python3.7/dist-packages/sklearn/utils/deprecation.py:87: FutureWarning: Function plot_confusion_matrix is deprecated; Function `plot_confusion_matrix` is deprecated in 1.0 and will be removed in 1.2. Use one of the class methods: ConfusionMatrixDisplay.from_predictions or ConfusionMatrixDisplay.from_estimator.\n",
            "  warnings.warn(msg, category=FutureWarning)\n"
          ]
        },
        {
          "output_type": "execute_result",
          "data": {
            "text/plain": [
              "<sklearn.metrics._plot.confusion_matrix.ConfusionMatrixDisplay at 0x7f0a97c78890>"
            ]
          },
          "metadata": {},
          "execution_count": 53
        },
        {
          "output_type": "display_data",
          "data": {
            "text/plain": [
              "<Figure size 432x288 with 2 Axes>"
            ],
            "image/png": "[encoded data removed]"
          },
          "metadata": {
            "needs_background": "light"
          }
        }
      ]
    },
    {
      "cell_type": "code",
      "source": [
        "print(classification_report(teste_y, y_pred)) "
      ],
      "metadata": {
        "colab": {
          "base_uri": "https://localhost:8080/"
        },
        "id": "V7SAQdedf9W0",
        "outputId": "de3d2e27-e321-444d-b27c-c51c39c7159f"
      },
      "execution_count": 56,
      "outputs": [
        {
          "output_type": "stream",
          "name": "stdout",
          "text": [
            "              precision    recall  f1-score   support\n",
            "\n",
            "           0       0.90      0.50      0.64       244\n",
            "           1       0.21      0.72      0.33        46\n",
            "\n",
            "    accuracy                           0.53       290\n",
            "   macro avg       0.56      0.61      0.49       290\n",
            "weighted avg       0.79      0.53      0.59       290\n",
            "\n"
          ]
        }
      ]
    },
    {
      "cell_type": "code",
      "source": [
        "#Chamando a curva roc para termos mais detalhes da matriz de confusão\n",
        "#tfp (Taxa falsos positivos), tvp (Taxa verdadeiros positivos)\n",
        "prob_previsao = modelo_LR.predict_proba(teste_x) [:, 1]\n",
        "tfp, tvp, limite = roc_curve(teste_y, prob_previsao)\n",
        "print('Roc_auc', roc_auc_score(teste_y, prob_previsao))"
      ],
      "metadata": {
        "colab": {
          "base_uri": "https://localhost:8080/"
        },
        "id": "bWGtFy0lgJyA",
        "outputId": "12d00239-acbe-41ea-ebf5-89cb6c60a79f"
      },
      "execution_count": 57,
      "outputs": [
        {
          "output_type": "stream",
          "name": "stdout",
          "text": [
            "Roc_auc 0.6385424091233073\n"
          ]
        }
      ]
    },
    {
      "cell_type": "code",
      "source": [
        "#Plotando nossa curva roc em um gráfico\n",
        "plt.subplots(1, figsize=(5,5))\n",
        "plt.title('Curva ROC')\n",
        "plt.plot(tfp, tvp)\n",
        "plt.xlabel('Especificidade')\n",
        "plt.ylabel('Sensibilidade')\n",
        "plt.plot([0, 1], ls=\"--\", c = 'red') #plotando linha guia pontilhada vermelha\n",
        "plt.plot([0, 0], [1, 0], ls=\"--\", c = 'green'), plt.plot([1, 1], ls=\"--\", c = 'green') #plotando linha guia pontilhada verde\n",
        "plt.show()\n",
        "\n",
        "#Área > 0.8 então discriminação excelente!"
      ],
      "metadata": {
        "colab": {
          "base_uri": "https://localhost:8080/",
          "height": 350
        },
        "id": "8cHi2TLrgce1",
        "outputId": "394c7dcf-c2a2-4da7-a8da-d2110161ee62"
      },
      "execution_count": 58,
      "outputs": [
        {
          "output_type": "display_data",
          "data": {
            "text/plain": [
              "<Figure size 360x360 with 1 Axes>"
            ],
            "image/png": "[encoded data removed]"
          },
          "metadata": {
            "needs_background": "light"
          }
        }
      ]
    },
    {
      "cell_type": "code",
      "source": [],
      "metadata": {
        "id": "Rgr_RTKagksz"
      },
      "execution_count": null,
      "outputs": []
    }
  ]
}